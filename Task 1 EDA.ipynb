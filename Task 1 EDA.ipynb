{
 "cells": [
  {
   "cell_type": "code",
   "execution_count": 2,
   "id": "cfa5297f-2b87-4c4b-bc47-1ee6e0ef1eeb",
   "metadata": {},
   "outputs": [],
   "source": [
    "import numpy as np\n",
    "import matplotlib.pyplot as plt\n",
    "import matplotlib.image as mpimg\n",
    "from PIL import Image\n",
    "import os\n",
    "import cv2\n",
    "from joblib import dump, load\n",
    "# import tensorflow as tf"
   ]
  },
  {
   "cell_type": "code",
   "execution_count": 5,
   "id": "76a0edd2-ad34-45ae-bdb0-4ffebfe5737c",
   "metadata": {},
   "outputs": [
    {
     "name": "stdout",
     "output_type": "stream",
     "text": [
      "Thu May  2 16:36:53 2024       \n",
      "+---------------------------------------------------------------------------------------+\n",
      "| NVIDIA-SMI 536.67                 Driver Version: 536.67       CUDA Version: 12.2     |\n",
      "|-----------------------------------------+----------------------+----------------------+\n",
      "| GPU  Name                     TCC/WDDM  | Bus-Id        Disp.A | Volatile Uncorr. ECC |\n",
      "| Fan  Temp   Perf          Pwr:Usage/Cap |         Memory-Usage | GPU-Util  Compute M. |\n",
      "|                                         |                      |               MIG M. |\n",
      "|=========================================+======================+======================|\n",
      "|   0  NVIDIA GeForce GTX 1650      WDDM  | 00000000:01:00.0 Off |                  N/A |\n",
      "| N/A   50C    P8               4W /  54W |    217MiB /  4096MiB |      3%      Default |\n",
      "|                                         |                      |                  N/A |\n",
      "+-----------------------------------------+----------------------+----------------------+\n",
      "                                                                                         \n",
      "+---------------------------------------------------------------------------------------+\n",
      "| Processes:                                                                            |\n",
      "|  GPU   GI   CI        PID   Type   Process name                            GPU Memory |\n",
      "|        ID   ID                                                             Usage      |\n",
      "|=======================================================================================|\n",
      "|    0   N/A  N/A     13052    C+G   ...Brave-Browser\\Application\\brave.exe    N/A      |\n",
      "+---------------------------------------------------------------------------------------+\n",
      "\n"
     ]
    }
   ],
   "source": [
    "import subprocess\n",
    "\n",
    "def get_gpu_details():\n",
    "    try:\n",
    "        result = subprocess.run(['nvidia-smi'], capture_output=True)\n",
    "        output = result.stdout.decode('utf-8')\n",
    "        print(output)\n",
    "    except FileNotFoundError:\n",
    "        print(\"nvidia-smi not found. Please make sure NVIDIA drivers are installed.\")\n",
    "\n",
    "# Call the function to display GPU details\n",
    "get_gpu_details()"
   ]
  },
  {
   "cell_type": "code",
   "execution_count": 6,
   "id": "dc187cd1-31a2-4151-8130-33c39f65f767",
   "metadata": {},
   "outputs": [],
   "source": [
    "# dir_raw_dataset = r'../MyDrive/RMIT/machine learning/Asm2/Furniture_Data'\n",
    "dir_raw_dataset = 'Furniture_Data/Furniture_Data'\n",
    "main_folder_path = dir_raw_dataset"
   ]
  },
  {
   "cell_type": "code",
   "execution_count": 8,
   "id": "bafad76f-978a-4fe6-b875-f2a1d11e398f",
   "metadata": {},
   "outputs": [
    {
     "name": "stdout",
     "output_type": "stream",
     "text": [
      "['beds', 'chairs', 'dressers', 'lamps', 'sofas', 'tables']\n"
     ]
    }
   ],
   "source": [
    "# List all sub-folders in the main folder\n",
    "sub_folders = [sub_folder for sub_folder in os.listdir(main_folder_path) if os.path.isdir(os.path.join(main_folder_path, sub_folder))]\n",
    "print(sub_folders)"
   ]
  },
  {
   "cell_type": "code",
   "execution_count": 38,
   "id": "2dea2574-1491-40a1-ba8b-889d8fe1bc73",
   "metadata": {},
   "outputs": [],
   "source": [
    "def load_csv(dataset_folder, label, prompt = \"\"):\n",
    "    # Folder path containing the images\n",
    "    folder_path = dataset_folder  # Replace with the actual folder path\n",
    "\n",
    "    # List all files in the folder\n",
    "    file_list = os.listdir(folder_path)\n",
    "    data_csv = []\n",
    "    for file_name in file_list:\n",
    "        # Construct the full file path\n",
    "        file_path = os.path.join(folder_path, file_name)\n",
    "        # print(file_path)\n",
    "\n",
    "        data_csv.append([file_path, label])\n",
    "    return data_csv\n",
    "\n"
   ]
  },
  {
   "cell_type": "code",
   "execution_count": 44,
   "id": "778fff93-9854-42a6-8602-cf88df138aa6",
   "metadata": {},
   "outputs": [
    {
     "name": "stdout",
     "output_type": "stream",
     "text": [
      "Accessing folder beds\n",
      "Accessing folder chairs\n",
      "Accessing folder dressers\n",
      "Accessing folder lamps\n",
      "Accessing folder sofas\n",
      "Accessing folder tables\n",
      "Load succesffuly\n"
     ]
    }
   ],
   "source": [
    "csv_data = []\n",
    "for sub_folder in sub_folders:\n",
    "      print(\"Accessing folder \" + sub_folder)\n",
    "      sub_folder_path = os.path.join(main_folder_path, sub_folder)\n",
    "      # print(sub_folder_path)\n",
    "      category_folders = [category_folder for category_folder in os.listdir(sub_folder_path) if os.path.isdir(os.path.join(sub_folder_path, category_folder))]\n",
    "      # print(category_folders)\n",
    "      for category_folder in category_folders:\n",
    "        category_folder_path = os.path.join(sub_folder_path, category_folder)\n",
    "        # print(category_folder_path)\n",
    "        datas = load_csv(category_folder_path, sub_folder)\n",
    "        csv_data.extend(datas)\n",
    "\n",
    "print('Load succesffuly')\n"
   ]
  },
  {
   "cell_type": "code",
   "execution_count": 45,
   "id": "9afe5366-158f-4044-a8d7-01a34baa8196",
   "metadata": {},
   "outputs": [
    {
     "name": "stdout",
     "output_type": "stream",
     "text": [
      "Data has been written to the CSV file.\n"
     ]
    }
   ],
   "source": [
    "# Specify the file path and mode (e.g., 'w' for writing)\n",
    "\n",
    "import os\n",
    "import csv\n",
    "\n",
    "file_path = 'Furnitures/clean_data.csv'\n",
    "\n",
    "# Check if the directory exists\n",
    "directory = os.path.dirname(file_path)\n",
    "if not os.path.exists(directory):\n",
    "    os.makedirs(directory)  # Create the directory if it does not exist\n",
    "\n",
    "# Check if the file exists\n",
    "if not os.path.isfile(file_path):\n",
    "    with open(file_path, 'w') as file:\n",
    "        file.write('')  # Create the file if it does not exist\n",
    "\n",
    "\n",
    "# Open the CSV file in write mode and create a CSV writer object\n",
    "\n",
    "with open(file_path, 'w', newline='') as csv_file:\n",
    "    writer = csv.writer(csv_file)\n",
    "    writer.writerow([\"ImgPath\", \"Class\"])\n",
    "\n",
    "    # Write the data to the CSV file row by row\n",
    "    for row in csv_data:\n",
    "        writer.writerow(row)\n",
    "        \n",
    "print('Data has been written to the CSV file.')"
   ]
  },
  {
   "cell_type": "code",
   "execution_count": 49,
   "id": "6f3ba96e-a3e0-4367-8f6a-c82899ac514d",
   "metadata": {},
   "outputs": [
    {
     "name": "stdout",
     "output_type": "stream",
     "text": [
      "                                                 ImgPath    Type\n",
      "0      Furniture_Data/Furniture_Data\\beds\\Asian\\19726...    beds\n",
      "1      Furniture_Data/Furniture_Data\\beds\\Asian\\20027...    beds\n",
      "2      Furniture_Data/Furniture_Data\\beds\\Asian\\20109...    beds\n",
      "3      Furniture_Data/Furniture_Data\\beds\\Asian\\20508...    beds\n",
      "4      Furniture_Data/Furniture_Data\\beds\\Asian\\20750...    beds\n",
      "...                                                  ...     ...\n",
      "90079  Furniture_Data/Furniture_Data\\tables\\Victorian...  tables\n",
      "90080  Furniture_Data/Furniture_Data\\tables\\Victorian...  tables\n",
      "90081  Furniture_Data/Furniture_Data\\tables\\Victorian...  tables\n",
      "90082  Furniture_Data/Furniture_Data\\tables\\Victorian...  tables\n",
      "90083  Furniture_Data/Furniture_Data\\tables\\Victorian...  tables\n",
      "\n",
      "[90084 rows x 2 columns]\n",
      "<class 'pandas.core.frame.DataFrame'>\n",
      "RangeIndex: 90084 entries, 0 to 90083\n",
      "Data columns (total 2 columns):\n",
      " #   Column   Non-Null Count  Dtype \n",
      "---  ------   --------------  ----- \n",
      " 0   ImgPath  90084 non-null  object\n",
      " 1   Type     90084 non-null  object\n",
      "dtypes: object(2)\n",
      "memory usage: 1.4+ MB\n"
     ]
    }
   ],
   "source": [
    "# Load the dataset for Exploratory Data Analysis purpose\n",
    "data_eda = pd.read_csv('./Furnitures/clean_data.csv')\n",
    "\n",
    "# Replace each class number into a furniture type\n",
    "for id, category in enumerate(sub_folders):\n",
    "    data_eda['Class'] = data_eda['Class'].replace(id, category)\n",
    "\n",
    "data_eda.rename(columns = {\"Class\": \"Type\"}, inplace = True)\n",
    "\n",
    "print(data_eda) # Print the data frame\n",
    "data_eda.info()"
   ]
  },
  {
   "cell_type": "code",
   "execution_count": 52,
   "id": "5298ba24-85b6-4e06-829b-5c43c328404f",
   "metadata": {},
   "outputs": [
    {
     "data": {
      "image/png": "[encoded data removed]",
      "text/plain": [
       "<Figure size 1000x500 with 1 Axes>"
      ]
     },
     "metadata": {},
     "output_type": "display_data"
    },
    {
     "data": {
      "text/plain": [
       "lamps       32402\n",
       "chairs      22053\n",
       "tables      17100\n",
       "dressers     7871\n",
       "beds         6578\n",
       "sofas        4080\n",
       "Name: Type, dtype: int64"
      ]
     },
     "execution_count": 52,
     "metadata": {},
     "output_type": "execute_result"
    }
   ],
   "source": [
    "# Plot bar graph\n",
    "import seaborn as sns\n",
    "plt.figure(figsize = (10, 5))\n",
    "sns.countplot(x = data_eda.Type)\n",
    "plt.title(\"Furniture Type Count\", fontsize = 15)\n",
    "plt.show()\n",
    "\n",
    "data_eda.Type.value_counts()"
   ]
  },
  {
   "cell_type": "code",
   "execution_count": null,
   "id": "d4acc2d8-6526-4812-aace-227c0c6570de",
   "metadata": {},
   "outputs": [],
   "source": []
  }
 ],
 "metadata": {
  "kernelspec": {
   "display_name": "Python 3 (ipykernel)",
   "language": "python",
   "name": "python3"
  },
  "language_info": {
   "codemirror_mode": {
    "name": "ipython",
    "version": 3
   },
   "file_extension": ".py",
   "mimetype": "text/x-python",
   "name": "python",
   "nbconvert_exporter": "python",
   "pygments_lexer": "ipython3",
   "version": "3.9.13"
  }
 },
 "nbformat": 4,
 "nbformat_minor": 5
}
